{
 "cells": [
  {
   "cell_type": "code",
   "execution_count": 1,
   "id": "203724bb",
   "metadata": {
    "_cell_guid": "b1076dfc-b9ad-4769-8c92-a6c4dae69d19",
    "_uuid": "8f2839f25d086af736a60e9eeb907d3b93b6e0e5",
    "execution": {
     "iopub.execute_input": "2025-09-24T08:52:02.732522Z",
     "iopub.status.busy": "2025-09-24T08:52:02.731922Z",
     "iopub.status.idle": "2025-09-24T08:52:04.688382Z",
     "shell.execute_reply": "2025-09-24T08:52:04.687823Z"
    },
    "papermill": {
     "duration": 1.960073,
     "end_time": "2025-09-24T08:52:04.689798",
     "exception": false,
     "start_time": "2025-09-24T08:52:02.729725",
     "status": "completed"
    },
    "tags": []
   },
   "outputs": [],
   "source": [
    "# This Python 3 environment comes with many helpful analytics libraries installed\n",
    "# It is defined by the kaggle/python Docker image: https://github.com/kaggle/docker-python\n",
    "# For example, here's several helpful packages to load\n",
    "\n",
    "import numpy as np # linear algebra\n",
    "import pandas as pd # data processing, CSV file I/O (e.g. pd.read_csv)\n",
    "\n",
    "# Input data files are available in the read-only \"../input/\" directory\n",
    "# For example, running this (by clicking run or pressing Shift+Enter) will list all files under the input directory\n",
    "\n",
    "import os\n",
    "for dirname, _, filenames in os.walk('/kaggle/input'):\n",
    "    for filename in filenames:\n",
    "        print(os.path.join(dirname, filename))\n",
    "\n",
    "# You can write up to 20GB to the current directory (/kaggle/working/) that gets preserved as output when you create a version using \"Save & Run All\" \n",
    "# You can also write temporary files to /kaggle/temp/, but they won't be saved outside of the current session"
   ]
  },
  {
   "cell_type": "markdown",
   "id": "261395eb",
   "metadata": {
    "papermill": {
     "duration": 0.000912,
     "end_time": "2025-09-24T08:52:04.692234",
     "exception": false,
     "start_time": "2025-09-24T08:52:04.691322",
     "status": "completed"
    },
    "tags": []
   },
   "source": [
    "# Yüz Maskesi Tespiti Projesi\n",
    "\n",
    "## 🎯 Projenin Amacı\n",
    "Bu proje kapsamında, Convolutional Neural Network (CNN) mimarisi kullanılarak ** yüz maskesi tespiti ** hedeflenmektedir.  \n",
    "Amaç, derin öğrenme yöntemleriyle temel görüntü sınıflandırma problemini çözmektir.  \n",
    "\n",
    "## 📂 Veri Seti\n",
    "- Kaggle Face Mask Detection Dataset  \n",
    "- [👉 https://www.kaggle.com/datasets/andrewmvd/face-mask-detection ]\n",
    "\n",
    "## 🧠 Kullanılan Yöntemler\n",
    "- Convolutional Neural Network (CNN)  \n",
    "- Data Augmentation (rotation, flip, zoom, color jitter)  \n",
    "- Dropout (overfitting’i azaltmak için)  \n",
    "- Accuracy, Loss, Confusion Matrix, Grad-CAM ile değerlendirme  \n"
   ]
  }
 ],
 "metadata": {
  "kaggle": {
   "accelerator": "nvidiaTeslaT4",
   "dataSources": [],
   "dockerImageVersionId": 31090,
   "isGpuEnabled": true,
   "isInternetEnabled": true,
   "language": "python",
   "sourceType": "notebook"
  },
  "kernelspec": {
   "display_name": "Python 3",
   "language": "python",
   "name": "python3"
  },
  "language_info": {
   "codemirror_mode": {
    "name": "ipython",
    "version": 3
   },
   "file_extension": ".py",
   "mimetype": "text/x-python",
   "name": "python",
   "nbconvert_exporter": "python",
   "pygments_lexer": "ipython3",
   "version": "3.11.13"
  },
  "papermill": {
   "default_parameters": {},
   "duration": 8.448156,
   "end_time": "2025-09-24T08:52:05.009488",
   "environment_variables": {},
   "exception": null,
   "input_path": "__notebook__.ipynb",
   "output_path": "__notebook__.ipynb",
   "parameters": {},
   "start_time": "2025-09-24T08:51:56.561332",
   "version": "2.6.0"
  }
 },
 "nbformat": 4,
 "nbformat_minor": 5
}
